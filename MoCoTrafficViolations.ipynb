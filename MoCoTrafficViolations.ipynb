{
 "cells": [
  {
   "cell_type": "code",
   "execution_count": 1,
   "metadata": {},
   "outputs": [],
   "source": [
    "url=\"datasets/MoCoViolations_2018.json\""
   ]
  },
  {
   "cell_type": "code",
   "execution_count": 2,
   "metadata": {},
   "outputs": [],
   "source": [
    "import json"
   ]
  },
  {
   "cell_type": "code",
   "execution_count": 4,
   "metadata": {},
   "outputs": [],
   "source": [
    "import pandas as pd"
   ]
  },
  {
   "cell_type": "code",
   "execution_count": 23,
   "metadata": {},
   "outputs": [],
   "source": []
  },
  {
   "cell_type": "code",
   "execution_count": 34,
   "metadata": {},
   "outputs": [],
   "source": [
    "with open(url,'r')as file:\n",
    "    data1=json.load(file)"
   ]
  },
  {
   "cell_type": "code",
   "execution_count": 35,
   "metadata": {},
   "outputs": [
    {
     "data": {
      "text/plain": [
       "dict"
      ]
     },
     "execution_count": 35,
     "metadata": {},
     "output_type": "execute_result"
    }
   ],
   "source": [
    "type(data1)"
   ]
  },
  {
   "cell_type": "code",
   "execution_count": 37,
   "metadata": {},
   "outputs": [
    {
     "data": {
      "text/plain": [
       "dict"
      ]
     },
     "execution_count": 37,
     "metadata": {},
     "output_type": "execute_result"
    }
   ],
   "source": [
    "type(data1)"
   ]
  },
  {
   "cell_type": "code",
   "execution_count": 38,
   "metadata": {},
   "outputs": [
    {
     "data": {
      "text/plain": [
       "dict"
      ]
     },
     "execution_count": 38,
     "metadata": {},
     "output_type": "execute_result"
    }
   ],
   "source": [
    "type(data1['meta'])"
   ]
  },
  {
   "cell_type": "code",
   "execution_count": 39,
   "metadata": {},
   "outputs": [
    {
     "data": {
      "text/plain": [
       "list"
      ]
     },
     "execution_count": 39,
     "metadata": {},
     "output_type": "execute_result"
    }
   ],
   "source": [
    "type(data1['data'])"
   ]
  },
  {
   "cell_type": "code",
   "execution_count": 42,
   "metadata": {},
   "outputs": [],
   "source": [
    "data=data1['data']\n"
   ]
  },
  {
   "cell_type": "code",
   "execution_count": 43,
   "metadata": {},
   "outputs": [],
   "source": [
    "dateOfStop=[]\n",
    "timeOfStop=[]\n",
    "agency=[]\n",
    "subagency=[]\n",
    "description=[]\n",
    "location=[]\n",
    "latitude=[]\n",
    "longitude=[]\n",
    "vehicleType=[]\n",
    "vehicleYear=[]\n",
    "vehicleMake=[]\n",
    "vehicleModel=[]\n",
    "vehicleColor=[]\n",
    "violationType=[]\n",
    "race=[]\n",
    "gender=[]\n",
    "driverState=[]\n",
    "driverLicenseState=[]\n",
    "arrestType=[]"
   ]
  },
  {
   "cell_type": "code",
   "execution_count": 44,
   "metadata": {},
   "outputs": [],
   "source": [
    "for entry in data1['data']:\n",
    "    dateOfStop.append(entry[9])\n",
    "    timeOfStop.append(entry[10])\n",
    "    agency.append(entry[11])\n",
    "    subagency.append(entry[12])\n",
    "    description.append(entry[13])\n",
    "    location.append(entry[14])\n",
    "    latitude.append(entry[15])\n",
    "    longitude.append(entry[16])\n",
    "    vehicleType.append(entry[28])\n",
    "    "
   ]
  },
  {
   "cell_type": "code",
   "execution_count": 45,
   "metadata": {},
   "outputs": [],
   "source": [
    "for entry in data1['data']:\n",
    "    vehicleYear.append(entry[29])\n",
    "    vehicleMake.append(entry[30])\n",
    "    vehicleModel.append(entry[31])\n",
    "    vehicleColor.append(entry[32])\n",
    "    violationType.append(entry[33])\n",
    "    race.append(entry[37])\n",
    "    gender.append(entry[38])\n",
    "    driverState.append(entry[40])\n",
    "    driverLicenseState.append(entry[41])\n",
    "    arrestType.append(entry[42])"
   ]
  },
  {
   "cell_type": "code",
   "execution_count": 51,
   "metadata": {},
   "outputs": [],
   "source": [
    "df=pd.DataFrame(list(zip(dateOfStop,timeOfStop,agency,subagency,description,location,latitude,longitude,vehicleType,vehicleYear, vehicleMake, vehicleModel,vehicleColor, violationType,race,gender,driverState,driverLicenseState,arrestType)),columns=['date of stop','time of stop','agency','subagency','description','location','latitude','longitude','vehicleType','vehicleYear','vehicleMake','vehicleModel','vehicleColor','violationType','race','gender','driver state','driver license state','arrest type'])"
   ]
  },
  {
   "cell_type": "code",
   "execution_count": 52,
   "metadata": {},
   "outputs": [
    {
     "data": {
      "text/html": [
       "<div>\n",
       "<style scoped>\n",
       "    .dataframe tbody tr th:only-of-type {\n",
       "        vertical-align: middle;\n",
       "    }\n",
       "\n",
       "    .dataframe tbody tr th {\n",
       "        vertical-align: top;\n",
       "    }\n",
       "\n",
       "    .dataframe thead th {\n",
       "        text-align: right;\n",
       "    }\n",
       "</style>\n",
       "<table border=\"1\" class=\"dataframe\">\n",
       "  <thead>\n",
       "    <tr style=\"text-align: right;\">\n",
       "      <th></th>\n",
       "      <th>date of stop</th>\n",
       "      <th>time of stop</th>\n",
       "      <th>agency</th>\n",
       "      <th>subagency</th>\n",
       "      <th>description</th>\n",
       "      <th>location</th>\n",
       "      <th>latitude</th>\n",
       "      <th>longitude</th>\n",
       "      <th>vehicleType</th>\n",
       "      <th>vehicleYear</th>\n",
       "      <th>vehicleMake</th>\n",
       "      <th>vehicleModel</th>\n",
       "      <th>vehicleColor</th>\n",
       "      <th>violationType</th>\n",
       "      <th>race</th>\n",
       "      <th>gender</th>\n",
       "      <th>driver state</th>\n",
       "      <th>driver license state</th>\n",
       "      <th>arrest type</th>\n",
       "    </tr>\n",
       "  </thead>\n",
       "  <tbody>\n",
       "    <tr>\n",
       "      <th>0</th>\n",
       "      <td>2018-12-31T00:00:00</td>\n",
       "      <td>23:56:00</td>\n",
       "      <td>MCP</td>\n",
       "      <td>1st District, Rockville</td>\n",
       "      <td>FAILURE OF VEH. ON HWY. TO DISPLAY LIGHTED LAM...</td>\n",
       "      <td>355 @ FIRST ST</td>\n",
       "      <td>39.07792</td>\n",
       "      <td>-77.1404116666667</td>\n",
       "      <td>02 - Automobile</td>\n",
       "      <td>2007</td>\n",
       "      <td>TOYOTA</td>\n",
       "      <td>COROLLA</td>\n",
       "      <td>BLUE</td>\n",
       "      <td>Warning</td>\n",
       "      <td>BLACK</td>\n",
       "      <td>M</td>\n",
       "      <td>MD</td>\n",
       "      <td>MD</td>\n",
       "      <td>A - Marked Patrol</td>\n",
       "    </tr>\n",
       "    <tr>\n",
       "      <th>1</th>\n",
       "      <td>2018-12-31T00:00:00</td>\n",
       "      <td>23:52:00</td>\n",
       "      <td>MCP</td>\n",
       "      <td>6th District, Gaithersburg / Montgomery Village</td>\n",
       "      <td>FAILURE TO DISPLAY TWO LIGHTED FRONT LAMPS WHE...</td>\n",
       "      <td>N FREDERICK AVE @ ODENDHAL AVE</td>\n",
       "      <td>39.1486766666667</td>\n",
       "      <td>-77.2063433333333</td>\n",
       "      <td>02 - Automobile</td>\n",
       "      <td>2006</td>\n",
       "      <td>LEXUS</td>\n",
       "      <td>4S</td>\n",
       "      <td>GRAY</td>\n",
       "      <td>Warning</td>\n",
       "      <td>HISPANIC</td>\n",
       "      <td>M</td>\n",
       "      <td>MD</td>\n",
       "      <td>MD</td>\n",
       "      <td>A - Marked Patrol</td>\n",
       "    </tr>\n",
       "    <tr>\n",
       "      <th>2</th>\n",
       "      <td>2018-12-31T00:00:00</td>\n",
       "      <td>23:52:00</td>\n",
       "      <td>MCP</td>\n",
       "      <td>6th District, Gaithersburg / Montgomery Village</td>\n",
       "      <td>FAILURE OF VEH. ON HWY. TO DISPLAY LIGHTED LAM...</td>\n",
       "      <td>N FREDERICK AVE @ ODENDHAL AVE</td>\n",
       "      <td>39.1486766666667</td>\n",
       "      <td>-77.2063433333333</td>\n",
       "      <td>02 - Automobile</td>\n",
       "      <td>2006</td>\n",
       "      <td>LEXUS</td>\n",
       "      <td>4S</td>\n",
       "      <td>GRAY</td>\n",
       "      <td>Warning</td>\n",
       "      <td>HISPANIC</td>\n",
       "      <td>M</td>\n",
       "      <td>MD</td>\n",
       "      <td>MD</td>\n",
       "      <td>A - Marked Patrol</td>\n",
       "    </tr>\n",
       "    <tr>\n",
       "      <th>3</th>\n",
       "      <td>2018-12-31T00:00:00</td>\n",
       "      <td>23:45:00</td>\n",
       "      <td>MCP</td>\n",
       "      <td>1st District, Rockville</td>\n",
       "      <td>FAILURE OF VEH. ON HWY. TO DISPLAY LIGHTED LAM...</td>\n",
       "      <td>355 @ BEAL</td>\n",
       "      <td>39.08545</td>\n",
       "      <td>-77.1451033333333</td>\n",
       "      <td>02 - Automobile</td>\n",
       "      <td>2017</td>\n",
       "      <td>TOYOTA</td>\n",
       "      <td>COROLLA</td>\n",
       "      <td>GRAY</td>\n",
       "      <td>Warning</td>\n",
       "      <td>WHITE</td>\n",
       "      <td>F</td>\n",
       "      <td>MD</td>\n",
       "      <td>MD</td>\n",
       "      <td>A - Marked Patrol</td>\n",
       "    </tr>\n",
       "    <tr>\n",
       "      <th>4</th>\n",
       "      <td>2018-12-31T00:00:00</td>\n",
       "      <td>23:44:00</td>\n",
       "      <td>MCP</td>\n",
       "      <td>Headquarters and Special Operations</td>\n",
       "      <td>FAILURE TO DRIVE VEHICLE ON RIGHT HALF OF ROAD...</td>\n",
       "      <td>FENTON ST @ COLESVILLE RD</td>\n",
       "      <td>38.997515</td>\n",
       "      <td>-77.0267766666667</td>\n",
       "      <td>02 - Automobile</td>\n",
       "      <td>2016</td>\n",
       "      <td>CHEVROLET</td>\n",
       "      <td>IMPALA</td>\n",
       "      <td>BLACK</td>\n",
       "      <td>Warning</td>\n",
       "      <td>BLACK</td>\n",
       "      <td>M</td>\n",
       "      <td>VA</td>\n",
       "      <td>VA</td>\n",
       "      <td>A - Marked Patrol</td>\n",
       "    </tr>\n",
       "  </tbody>\n",
       "</table>\n",
       "</div>"
      ],
      "text/plain": [
       "          date of stop time of stop agency  \\\n",
       "0  2018-12-31T00:00:00     23:56:00    MCP   \n",
       "1  2018-12-31T00:00:00     23:52:00    MCP   \n",
       "2  2018-12-31T00:00:00     23:52:00    MCP   \n",
       "3  2018-12-31T00:00:00     23:45:00    MCP   \n",
       "4  2018-12-31T00:00:00     23:44:00    MCP   \n",
       "\n",
       "                                         subagency  \\\n",
       "0                          1st District, Rockville   \n",
       "1  6th District, Gaithersburg / Montgomery Village   \n",
       "2  6th District, Gaithersburg / Montgomery Village   \n",
       "3                          1st District, Rockville   \n",
       "4              Headquarters and Special Operations   \n",
       "\n",
       "                                         description  \\\n",
       "0  FAILURE OF VEH. ON HWY. TO DISPLAY LIGHTED LAM...   \n",
       "1  FAILURE TO DISPLAY TWO LIGHTED FRONT LAMPS WHE...   \n",
       "2  FAILURE OF VEH. ON HWY. TO DISPLAY LIGHTED LAM...   \n",
       "3  FAILURE OF VEH. ON HWY. TO DISPLAY LIGHTED LAM...   \n",
       "4  FAILURE TO DRIVE VEHICLE ON RIGHT HALF OF ROAD...   \n",
       "\n",
       "                         location          latitude          longitude  \\\n",
       "0                  355 @ FIRST ST          39.07792  -77.1404116666667   \n",
       "1  N FREDERICK AVE @ ODENDHAL AVE  39.1486766666667  -77.2063433333333   \n",
       "2  N FREDERICK AVE @ ODENDHAL AVE  39.1486766666667  -77.2063433333333   \n",
       "3                      355 @ BEAL          39.08545  -77.1451033333333   \n",
       "4       FENTON ST @ COLESVILLE RD         38.997515  -77.0267766666667   \n",
       "\n",
       "       vehicleType vehicleYear vehicleMake vehicleModel vehicleColor  \\\n",
       "0  02 - Automobile        2007      TOYOTA      COROLLA         BLUE   \n",
       "1  02 - Automobile        2006       LEXUS           4S         GRAY   \n",
       "2  02 - Automobile        2006       LEXUS           4S         GRAY   \n",
       "3  02 - Automobile        2017      TOYOTA      COROLLA         GRAY   \n",
       "4  02 - Automobile        2016   CHEVROLET       IMPALA        BLACK   \n",
       "\n",
       "  violationType      race gender driver state driver license state  \\\n",
       "0       Warning     BLACK      M           MD                   MD   \n",
       "1       Warning  HISPANIC      M           MD                   MD   \n",
       "2       Warning  HISPANIC      M           MD                   MD   \n",
       "3       Warning     WHITE      F           MD                   MD   \n",
       "4       Warning     BLACK      M           VA                   VA   \n",
       "\n",
       "         arrest type  \n",
       "0  A - Marked Patrol  \n",
       "1  A - Marked Patrol  \n",
       "2  A - Marked Patrol  \n",
       "3  A - Marked Patrol  \n",
       "4  A - Marked Patrol  "
      ]
     },
     "execution_count": 52,
     "metadata": {},
     "output_type": "execute_result"
    }
   ],
   "source": [
    "df.head()"
   ]
  },
  {
   "cell_type": "code",
   "execution_count": null,
   "metadata": {},
   "outputs": [],
   "source": []
  }
 ],
 "metadata": {
  "kernelspec": {
   "display_name": "Python 3",
   "language": "python",
   "name": "python3"
  },
  "language_info": {
   "codemirror_mode": {
    "name": "ipython",
    "version": 3
   },
   "file_extension": ".py",
   "mimetype": "text/x-python",
   "name": "python",
   "nbconvert_exporter": "python",
   "pygments_lexer": "ipython3",
   "version": "3.7.3"
  }
 },
 "nbformat": 4,
 "nbformat_minor": 2
}
